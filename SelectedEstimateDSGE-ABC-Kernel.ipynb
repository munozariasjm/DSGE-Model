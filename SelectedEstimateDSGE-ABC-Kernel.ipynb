{
 "cells": [
  {
   "cell_type": "code",
   "execution_count": 1,
   "metadata": {},
   "outputs": [],
   "source": [
    "import fileinput\n",
    "import pyabc\n",
    "import scipy.stats as ss\n",
    "import numpy as np\n",
    "from scipy.stats import norm\n",
    "import scipy.stats as st\n",
    "import tempfile\n",
    "import os\n",
    "from pyabc import ABCSMC\n",
    "import re \n",
    "import subprocess\n",
    "import sys as sys\n",
    "import time\n",
    "import pandas as pd\n",
    "from abcpy.continuousmodels import Uniform\n",
    "from abcpy.statistics import Identity\n",
    "import matplotlib.pyplot as plt\n",
    "%matplotlib inline"
   ]
  },
  {
   "cell_type": "code",
   "execution_count": 2,
   "metadata": {},
   "outputs": [],
   "source": [
    "nombres_parametros=[\"psin0\",\"beta\",\"theta\",\"tauh0\",\"delta\",\"gama\",\"tauk0\",\"f0\",\"fk0\",\"alfa1\",\"alfa2\",\"alfa3\",\"z0\",\"b\",\n",
    "                    \"sig\",\"omega\",\"iva0\",\"g0\",\"x0\",\"px0\",\"pwx0\",\"omegae\",\"be\",\"sige\",\"omegad\",\"bd\",\"sigd\",\"xt0\",\"pw0\",\n",
    "                    \"pwm\",\"ma\",\"rho0\",\"rm\",\"a\",\"meta\",\"aran0\",\"tauhk\",\"taukk\",\"ivak\",\"arank\",\"psim0\",\"vr0\",\"ifdi0\",\n",
    "                    \"ir0\",\"gk\",\"ppet0\",\"qpet0\",\"share\",\"epsilon\",\"rentas\",\"rcc\",\"oabc\",\"irb0\",\"rrb0\",\"alfaf\",\"kf\",\"alfah\",\n",
    "                    \"kh\",\"iri0\",\"sigmatc\",\"deltatc\",\"gamac\",\"gaman\",\"gamam\",\"gamav\",\"pib0\",\"pi0\",\"alfay\",\"alfapi\",\"kbb\",\n",
    "                    \"vbb\",\"rr\" ,\"spread\",\"spread2\",\"deltav\",\"kapa0\",\"tauv0\",\"psiv0\",\"bv\",\"sigv\",\"omegav\",\"taukv0\",\"sltv\",\n",
    "                    \"ppch\",\"ltv0\",\"chi0\",\"act\",\"mu\",\"sdomeg0\",\"rs0\",\"lamdi\",\"lamdv\",\"rho1\",\"rho2\",\"rho3\",\"rho4\",\"rho5\",\n",
    "                    \"rho6\",\"rho7\",\"rho8\", \"rho9\", \"rho10\", \"rho11\", \"rho12\", \"rho13\" ,\"rho14\", \"rho15\", \"rho16\", \"rho17\", \n",
    "                    \"rho18\", \"rho19\", \"rho20\" , \"rho21\", \"rho22\", \"rho23\", \"rho24\", \"rho25\", \"rho26\", \"cor1\"]\n",
    "nombres_resul=[\"c\",\"n\",\"w\" ,   \"ir\" ,    \"bf\"  , \"er\",\"q\" ,\"i\"     ,\"ifdi\"   ,\"k\",\"kfdi\",\"kv\",\"r\",\"rfdi\",\"fi\",\"df\",\n",
    "               \"py\",\"y\",\"g\",\"d\",\"m\",\"s\",\"x\",\"pm\",\"pd\",\"px\",\"xx\",\"xt\",\"pwx\",\"pib\",\"ri\",\"tauh\",\"tauk\",\"f\",\"fk\",\"z\",\"iva\",\n",
    "               \"aran\",\"dm\",\"pi\",\"vr\",\"ppet\",\"qpet\",\"lamda\",\"ga\",\"po\",\"v1\",\"v2\",\"iri\",\"gb\",\"rb\",\"irb\",\"tc\",\"cb\",\"ira\",\"walras\",\n",
    "               \"scc\",\"sck\",\"pw\",\"iv\",\"rv\",\"pv\",\"yv\",\"yt\",\"pt\",\"taukv\",\"kapa\",\"ltv\" ,\"irh\"   ,\"ch\" ,\"tauv\",\"rrb\",\"psiv\",\"psim\" ,\n",
    "               \"psin\" ,\"u\"   ,\"pomeg\", \"omeg\",\"rs\",\"sdomeg\" ,\"chi\"   ,\"ct\"]"
   ]
  },
  {
   "cell_type": "code",
   "execution_count": 3,
   "metadata": {},
   "outputs": [],
   "source": [
    "##############################################################################\n",
    "#Parámetros calibrados por el modelo de DSGE\n",
    "##############################################################################\n",
    "psin0 =  0.839925651   \n",
    "beta = 0.966660992  \n",
    "theta =  1.011289   \n",
    "tauh0 =  0.13921   \n",
    "delta = 0.942928263  \n",
    "gama = 1.561073496  \n",
    "tauk0 =  0.133974   \n",
    "f0 = 0.760360883  \n",
    "fk0 = 0.80712262  \n",
    "alfa1 = 0.276098782  \n",
    "alfa2 = 0.023635479  \n",
    "alfa3 = 0.030266205  \n",
    "z0 =  26.59720303   \n",
    "b = 2.064665685  \n",
    "sig = 1.5  \n",
    "omega = 0.330468306  \n",
    "iva0 = 0.123953184  \n",
    "g0 = 3.946133413  \n",
    "x0 = 1.88796393  \n",
    "px0 = 1  \n",
    "pwx0 = 1  \n",
    "omegae = 0.226246806  \n",
    "be = 1.451223777  \n",
    "sige = 3  \n",
    "omegad = 0.712316809  \n",
    "bd = 2.413222496  \n",
    "sigd = -2  \n",
    "xt0 = 77.40652112  \n",
    "pw0 = 1  \n",
    "pwm = 0.972498643  \n",
    "ma = 0.052631579  \n",
    "rho0 = 0.5  \n",
    "rm =  0.021307   \n",
    "a = 0.061189212  \n",
    "meta = 0.408404801  \n",
    "aran0 = 0.02827907  \n",
    "tauhk = 1  \n",
    "taukk = 2  \n",
    "ivak = 2  \n",
    "arank = 2  \n",
    "psim0 =  0.07377068   \n",
    "vr0 = 0.036093325  \n",
    "ifdi0 = 0.247142369  \n",
    "ir0 =  1.06552350   \n",
    "gk = 2  \n",
    "ppet0 = 1  \n",
    "qpet0 = 0.801901957  \n",
    "share = 0.292740852  \n",
    "epsilon = 20  \n",
    "rentas = 1.832450981  \n",
    "rcc = 0.476790463  \n",
    "oabc = 0.037022972  \n",
    "irb0 =  1.0570588   \n",
    "rrb0 = 0.076836026  \n",
    "alfaf = 1.2  \n",
    "kf = 0.017660472  \n",
    "alfah = 1.2  \n",
    "kh = 0.040510778  \n",
    "iri0 =  1.10215157   \n",
    "sigmatc =  10.00000000   \n",
    "deltatc =  1.44595993   \n",
    "gamac =  0.57000000   \n",
    "gaman =  2.50000000   \n",
    "gamam =  2.00000000   \n",
    "gamav =  5.00000000   \n",
    "pib0 = 17.18740916  \n",
    "pi0 =  1.0300000   \n",
    "alfay =  0.5000000   \n",
    "alfapi =  1.5000000   \n",
    "kbb = -0.08470711  \n",
    "vbb = -0.272727273  \n",
    "rr  =  0.0270588   \n",
    "spread = 0.036851467  \n",
    "spread2 = 0.008464672  \n",
    "deltav = 0.909317602  \n",
    "kapa0 = 1  \n",
    "tauv0 =  1.0000000   \n",
    "psiv0 = 404.907184  \n",
    "bv =  2.950827   \n",
    "sigv = -2  \n",
    "omegav = 0.796372447  \n",
    "taukv0 = 1  \n",
    "sltv = 0.500000000  \n",
    "ppch = 0.403621206  \n",
    "ltv0 = 0.700000000  \n",
    "chi0 = 0.001725  \n",
    "act = 0.957405739  \n",
    "mu = 0  \n",
    "sdomeg0 = 0.5  \n",
    "rs0 = 0.115  \n",
    "lamdi = 0.5  \n",
    "lamdv = 0.75  \n",
    "\n",
    "psin0 =  0.839925651   \n",
    "beta = 0.966660992  \n",
    "theta =  1.011289   \n",
    "tauh0 =  0.13921   \n",
    "delta = 0.942928263  \n",
    "gama = 1.561073496  \n",
    "tauk0 =  0.133974   \n",
    "f0 = 0.760360883  \n",
    "fk0 = 0.80712262  \n",
    "alfa1 = 0.276098782  \n",
    "alfa2 = 0.023635479  \n",
    "alfa3 = 0.030266205  \n",
    "z0 =  26.59720303   \n",
    "b = 2.064665685  \n",
    "sig = 1.5  \n",
    "omega = 0.330468306  \n",
    "iva0 = 0.123953184  \n",
    "g0 = 3.946133413  \n",
    "x0 = 1.88796393  \n",
    "px0 = 1  \n",
    "pwx0 = 1  \n",
    "omegae = 0.226246806  \n",
    "be = 1.451223777  \n",
    "sige = 3  \n",
    "omegad = 0.712316809  \n",
    "bd = 2.413222496  \n",
    "sigd = -2  \n",
    "xt0 = 77.40652112  \n",
    "pw0 = 1  \n",
    "pwm = 0.972498643  \n",
    "ma = 0.052631579  \n",
    "rho0 = 0.5  \n",
    "rm =  0.021307   \n",
    "a = 0.061189212  \n",
    "meta = 0.408404801  \n",
    "aran0 = 0.02827907  \n",
    "tauhk = 1  \n",
    "taukk = 2  \n",
    "ivak = 2  \n",
    "arank = 2  \n",
    "psim0 =  0.07377068   \n",
    "vr0 = 0.036093325  \n",
    "ifdi0 = 0.247142369  \n",
    "ir0 =  1.06552350   \n",
    "gk = 2  \n",
    "ppet0 = 1  \n",
    "qpet0 = 0.801901957  \n",
    "share = 0.292740852  \n",
    "epsilon = 20  \n",
    "rentas = 1.832450981  \n",
    "rcc = 0.476790463  \n",
    "oabc = 0.037022972  \n",
    "irb0 =  1.0570588   \n",
    "rrb0 = 0.076836026  \n",
    "alfaf = 1.2  \n",
    "kf = 0.017660472  \n",
    "alfah = 1.2  \n",
    "kh = 0.040510778  \n",
    "iri0 =  1.10215157   \n",
    "sigmatc =  10.00000000   \n",
    "deltatc =  1.44595993   \n",
    "gamac =  0.57000000   \n",
    "gaman =  2.50000000   \n",
    "gamam =  2.00000000   \n",
    "amav =  5.00000000   \n",
    "pib0 = 17.18740916  \n",
    "pi0 =  1.0300000   \n",
    "alfay =  0.5000000   \n",
    "alfapi =  1.5000000   \n",
    "kbb = -0.08470711  \n",
    "vbb = -0.272727273  \n",
    "rr  =  0.0270588   \n",
    "spread = 0.036851467  \n",
    "spread2 = 0.008464672  \n",
    "deltav = 0.909317602  \n",
    "kapa0 = 1  \n",
    "tauv0 =  1.0000000   \n",
    "psiv0 = 404.907184  \n",
    "bv =  2.950827   \n",
    "sigv = -2  \n",
    "omegav = 0.796372447  \n",
    "taukv0 = 1  \n",
    "sltv = 0.500000000  \n",
    "ppch = 0.403621206  \n",
    "ltv0 = 0.700000000  \n",
    "chi0 = 0.001725  \n",
    "act = 0.957405739  \n",
    "mu = 0  \n",
    "sdomeg0 = 0.5  \n",
    "rs0 = 0.115  \n",
    "lamdi = 0.5  \n",
    "lamdv = 0.75    \n",
    "rho1    = 0.95 \n",
    "rho2    = 0.95 \n",
    "rho3    = 0.95 \n",
    "rho4    = 0.95 \n",
    "rho5    = 0.95 \n",
    "rho6    = 0.95 \n",
    "rho7    = 0.95 \n",
    "rho8    = 0.95 \n",
    "rho9    = 0.95 \n",
    "rho10   = 0.95 \n",
    "rho11   = 0.95 \n",
    "rho12   = 0.95 \n",
    "rho13   = 0.95 \n",
    "rho14   = 0.95 \n",
    "rho15   = 0.95 \n",
    "rho16   = 0.95 \n",
    "rho17   = 0.95 \n",
    "rho18   = 0.95 \n",
    "rho19   = 0.95 \n",
    "rho20   = 0.95 \n",
    "rho21   = 0.95 \n",
    "rho22   = 0.95 \n",
    "rho23   = 0.95 \n",
    "rho24   = 0.95 \n",
    "rho25   = 0.95 \n",
    "rho26   = 0.95 \n",
    "cor1    = 0.95 \n",
    "sigma   = 0.2222 \n",
    "sigma=0.01 \n"
   ]
  },
  {
   "cell_type": "code",
   "execution_count": 4,
   "metadata": {},
   "outputs": [],
   "source": [
    "def modificarParametro(Nombre,valor,path=\"/home/jose/Study/Universidad/Cuarto Semestre/DSGE economy/Modelo.mod\"):\n",
    "    \"\"\"\n",
    "    Modifica el valor del parámetro:Nombre y le asigna un valor:valor\n",
    "    \"\"\"\n",
    "    \n",
    "    reading_file = open(path, \"r\")\n",
    "    new_file_content = \"\"\n",
    "    for line in reading_file:\n",
    "        i=0;ban=0\n",
    "        stripped_line = line.strip()\n",
    "        if \"% 3. Model\" in line: ban=1\n",
    "        if Nombre in stripped_line and len(stripped_line)>5 and i<=300 and not \"(\" in stripped_line and stripped_line[0]==Nombre[0]:\n",
    "            new_line = (Nombre+\"\t=\t\"+str(valor)+\"\t;\\n\")\n",
    "        else: new_line=line\n",
    "        new_file_content += new_line \n",
    "        i+=1\n",
    "    reading_file.close()\n",
    "\n",
    "    writing_file = open(path, \"w\")\n",
    "    writing_file.write(new_file_content)\n",
    "    writing_file.close()"
   ]
  },
  {
   "cell_type": "code",
   "execution_count": 5,
   "metadata": {},
   "outputs": [],
   "source": [
    "def leeResultados(path=\"/home/jose/Study/Universidad/Cuarto Semestre/DSGE economy/Modelo.log\"):\n",
    "    \"\"\"\n",
    "    Lee los resultados del .log, retorna una lista con los valores en orden\n",
    "    \"\"\"\n",
    "    outputs=[]\n",
    "    reading_file = open(path, \"r\")\n",
    "    for line in reading_file:\n",
    "        stripped_line = line.split(\" \")\n",
    "        for Nombre in nombres_resul:\n",
    "            if Nombre in stripped_line:\n",
    "                \n",
    "                valor=stripped_line[-1]\n",
    "                outputs.append(float(valor[:-1]))\n",
    "    reading_file.close()\n",
    "    return outputs"
   ]
  },
  {
   "cell_type": "code",
   "execution_count": 6,
   "metadata": {},
   "outputs": [],
   "source": [
    "observations=np.array([2.4613,-0.753888,2.96812,0.0635072,1.89486,4.31645e-05,-2.69418,0.495181,-1.39779,3.18936,1.29643, 2.16781,\n",
    "       -1.85042,-2.4155,0.167302,1.83971,-0.000158626, 2.66616,1.37835,2.45202,1.39283, 1.92379, 0.637466, \n",
    "       4.31647e-05,-1.49684e-05,-0.000629016,4.32433,4.34907,-0.000672181, 2.84693, -3.08748,-1.97177,-2.01011,\n",
    "      -0.273962, -0.21428,3.28081, -2.08785, -3.56563,0.792168,0.0295998, 0.0360933,0, -0.220769,-0.0514519,-0.329729,\n",
    "      -0.000158626,3.27506,3.32651,0.0965813, -0.993837,-0.501141,0.0554903, 1.92162,-1.71271,0.0632964,-1.18277e-06,\n",
    "       -0.117506,0.1196,0,-0.126481,-3.03959,-0.00104043,-0.126481,2.60295,-0.000101012,0,0,-0.356675, 0.11265,-0.0158172,0,\n",
    "       -2.56608,6.00366, -2.60679, -0.174442,5.44566,-12.3016,-0.0435824,-2.16282,-12.2521, -6.36253,1.98499])\n"
   ]
  },
  {
   "cell_type": "code",
   "execution_count": 7,
   "metadata": {},
   "outputs": [],
   "source": [
    "#########################################\n",
    "#         Parámetros a estimar          #\n",
    "#########################################\n",
    "\n",
    "nombres_A_Estimar=[\"psin0\",\"theta\"]\n",
    "#Límites que puede tomar cada parámetro\n",
    "Limits=[[0.838 ,0.85],[0.95,1.]] \n"
   ]
  },
  {
   "cell_type": "code",
   "execution_count": 8,
   "metadata": {},
   "outputs": [],
   "source": [
    "#########################################\n",
    "#          Definicion del Modelo        #\n",
    "#########################################\n",
    "\n",
    "\n",
    "def modelo(ValParametros,nombres_param=nombres_A_Estimar):\n",
    "    for i in range(len(nombres_A_Estimar)):\n",
    "        modificarParametro(nombres_param[i],ValParametros[i],path=\"/home/jose/Study/Universidad/Cuarto Semestre/DSGE economy/Modelo.mod\")\n",
    "    #Se debe indicar bien la forma correcta de llamar la finción de Matlab\n",
    "    os.system(\"cd /usr/local/MATLAB/R2020b\")\n",
    "    #os.system(\"matlab -nojvm -nodisplay -nosplash - nodesktop\")\n",
    "    #subprocess.Popen(\" addpath /usr/lib/dynare/matlab\", shell=True, stdin=subprocess.PIPE,stdout=subprocess.PIPE, executable=\"/bin/bash\").stdout.read()\n",
    "    #subprocess.Popen(\" dynare Modelo nostrict\", shell=True,stdin=subprocess.PIPE, stdout=subprocess.PIPE, executable=\"/bin/bash\").stdout.read()\n",
    "    #os.system(\"matlab -nojvm -nodesktop -r 'try;/home/jose/Study/Universidad/Cuarto Semestre/DSGE economy/script.mod ; catch; end; quit'\")\n",
    "    #subprocess.Popen(\" exit\", shell=True,stdin=subprocess.PIPE, stdout=subprocess.PIPE, executable=\"/bin/bash\").stdout.read()\n",
    "    os.system(\"matlab -nodesktop -nosplash -r \\\"run('/home/jose/Study/Universidad/Cuarto Semestre/DSGE economy/script.m');exit\\\" | tail -n +11\")  \n",
    "\n",
    "    output=leeResultados(path=\"/home/jose/Study/Universidad/Cuarto Semestre/DSGE economy/Modelo.log\")\n",
    "    \n",
    "    return np.array(output)\n"
   ]
  },
  {
   "cell_type": "code",
   "execution_count": 9,
   "metadata": {},
   "outputs": [],
   "source": [
    "def distancia(output,observ):\n",
    "    \"\"\"\"\n",
    "    Dos listas con los outputs diferentes: modelado y estimado\n",
    "    \"\"\"\n",
    "    distancia=np.abs(np.array(output)-np.array(observ))\n",
    "\n",
    "    return np.sum(distancia)\n",
    "    "
   ]
  },
  {
   "cell_type": "code",
   "execution_count": 36,
   "metadata": {},
   "outputs": [],
   "source": [
    "def infiere(estimados,distancian):\n",
    "    res=[]\n",
    "    for k in range(len(estimados[1])):\n",
    "        vals=np.array([estimados[i][k] for i in range(len(estimados))])\n",
    "        pesos=1/np.array(distancian)\n",
    "        pond=np.average(vals,weights=pesos)\n",
    "        res.append(pond)\n",
    "    return (res)\n",
    "        \n"
   ]
  },
  {
   "cell_type": "code",
   "execution_count": 37,
   "metadata": {},
   "outputs": [],
   "source": [
    "#########################################\n",
    "#          Método de ABC-rej            #\n",
    "#########################################\n",
    "\n",
    "def ABC_step(n_reps, nombres_A_Estimar=nombres_A_Estimar , error=10):\n",
    "    \"\"\"\n",
    "    \n",
    "    Hace un paso en el ABC, cada uno de n_reps repeticiones con la distancia definida en \n",
    "    distancia y por ahora con el Kernel de peso Identidad \n",
    "    \n",
    "    \n",
    "    \"\"\"\n",
    "    aceptados=[]\n",
    "    resultados=[];distancias=[]\n",
    "    for k in range(n_reps):\n",
    "        estimados=[]\n",
    "        out=[]\n",
    "   \n",
    "        for i in range(len(nombres_A_Estimar)):\n",
    "            sup=Limits[i][1];inf=Limits[i][0]\n",
    "            estimados.append(np.random.uniform(sup,inf))\n",
    "            \n",
    "        out=modelo(estimados)\n",
    "        if not len(out)==0:\n",
    "            resultados.append(out)\n",
    "            dist=distancia(modelo(estimados),observations)\n",
    "            if dist<=error: aceptados.append(estimados);distancias.append(dist)\n",
    "        else: k-=1\n",
    "        \n",
    "    return infiere(aceptados,distancias),distancias\n",
    "\n",
    "def ABC_tot(n_steps,n_reps,nombres_A_Estimar=nombres_A_Estimar):\n",
    "    \n",
    "    \"\"\"\n",
    "    \n",
    "    Hace un paso en el ABC, cada uno de n_reps repeticiones con la distancia definida en \n",
    "    distancia y por ahora con el Kernel de peso Identidad \n",
    "    \n",
    "    \"\"\"\n",
    "    \n",
    "    result=[];dit=[]\n",
    "    for i in range(n_steps):\n",
    "        resul,dist=ABC_step(n_reps)\n",
    "        result.append(resul)\n",
    "        dit.append(dist)\n",
    "    parameters_estimados=np.mean(result)\n",
    "    return result,dit\n",
    "\n"
   ]
  },
  {
   "cell_type": "code",
   "execution_count": 41,
   "metadata": {},
   "outputs": [],
   "source": [
    "estimados,distancian=ABC_tot(5,5)"
   ]
  },
  {
   "cell_type": "code",
   "execution_count": null,
   "metadata": {},
   "outputs": [],
   "source": [
    "def Boostrapping(x):\n",
    "    \n",
    "    \n",
    "    mu = np.mean(x)\n",
    "    sigma = np.std(x)\n",
    "\n",
    "    n_iteraciones = 100000\n",
    "    n_alturas = len(x)\n",
    "    promedios  = np.zeros(n_iteraciones)\n",
    "    for i in range(n_iteraciones):\n",
    "        nx = np.random.normal(loc=mu, scale=sigma, size=len(x))\n",
    "        promedios[i] = np.mean(nx)\n",
    "    Z = np.abs(promedios - np.mean(promedios))\n",
    "    ii_outside = Z>(np.abs(mu - np.mean(promedios)))\n",
    "    p_value = len(Z[ii_outside])\n",
    "    p_value = p_value/n_iteraciones\n",
    "    plt.figure()\n",
    "    plt.hist(promedios, density=True, bins=30, label='Monte Carlo')\n",
    "    plt.axvline(x=mu, color='red', label='Media')\n",
    "    plt.title(\"Valor ABC = {} \".format(mu))\n",
    "    plt.xlabel(\"Promedio\")\n",
    "    plt.ylabel(\"Densidad de Probabilidad\")\n",
    "    plt.legend()\n",
    "    plt.savefig(\"prueba_hipotesis.png\")\n"
   ]
  },
  {
   "cell_type": "code",
   "execution_count": 42,
   "metadata": {},
   "outputs": [
    {
     "name": "stdout",
     "output_type": "stream",
     "text": [
      "[[0.845507511513, 0.9678744199802237], [0.8444375496587586, 0.9667898781726342], [0.8453574908617004, 0.9662319139839802], [0.8414673472087622, 0.9699329630441532], [0.8437382186847867, 0.9651475395260994]]\n"
     ]
    }
   ],
   "source": [
    "def scat(y,dist):\n",
    "    fig,ax=plt.subplots()\n",
    "    ax.scatter(y,dist)\n",
    "print(estimados)\n",
    "\n",
    "def hist(x):\n",
    "    fig,ax=plt.subplots()\n",
    "    ax.hist(x)"
   ]
  },
  {
   "cell_type": "code",
   "execution_count": 45,
   "metadata": {},
   "outputs": [
    {
     "data": {
      "image/png": "[encoded data removed]",
      "text/plain": [
       "<Figure size 432x288 with 1 Axes>"
      ]
     },
     "metadata": {
      "needs_background": "light"
     },
     "output_type": "display_data"
    },
    {
     "data": {
      "image/png": "[encoded data removed]",
      "text/plain": [
       "<Figure size 432x288 with 1 Axes>"
      ]
     },
     "metadata": {
      "needs_background": "light"
     },
     "output_type": "display_data"
    },
    {
     "data": {
      "image/png": "[encoded data removed]",
      "text/plain": [
       "<Figure size 432x288 with 1 Axes>"
      ]
     },
     "metadata": {
      "needs_background": "light"
     },
     "output_type": "display_data"
    },
    {
     "data": {
      "image/png": "[encoded data removed]",
      "text/plain": [
       "<Figure size 432x288 with 1 Axes>"
      ]
     },
     "metadata": {
      "needs_background": "light"
     },
     "output_type": "display_data"
    },
    {
     "data": {
      "image/png": "[encoded data removed]",
      "text/plain": [
       "<Figure size 432x288 with 1 Axes>"
      ]
     },
     "metadata": {
      "needs_background": "light"
     },
     "output_type": "display_data"
    },
    {
     "data": {
      "image/png": "[encoded data removed]",
      "text/plain": [
       "<Figure size 432x288 with 1 Axes>"
      ]
     },
     "metadata": {
      "needs_background": "light"
     },
     "output_type": "display_data"
    }
   ],
   "source": [
    "for par in range(len(nombres_A_Estimar)):\n",
    "    x=[];y=[]\n",
    "    for i in range(len(estimados[0])):\n",
    "        x.append(estimados[i][par])\n",
    "        y.append(distancian[i][par])\n",
    "    Boostrapping(x)\n",
    "    scat(x,y)\n",
    "    hist(x)\n",
    "    "
   ]
  },
  {
   "cell_type": "code",
   "execution_count": null,
   "metadata": {},
   "outputs": [],
   "source": []
  },
  {
   "cell_type": "code",
   "execution_count": null,
   "metadata": {},
   "outputs": [],
   "source": []
  }
 ],
 "metadata": {
  "kernelspec": {
   "display_name": "Python 3",
   "language": "python",
   "name": "python3"
  },
  "language_info": {
   "codemirror_mode": {
    "name": "ipython",
    "version": 3
   },
   "file_extension": ".py",
   "mimetype": "text/x-python",
   "name": "python",
   "nbconvert_exporter": "python",
   "pygments_lexer": "ipython3",
   "version": "3.7.3"
  }
 },
 "nbformat": 4,
 "nbformat_minor": 2
}
